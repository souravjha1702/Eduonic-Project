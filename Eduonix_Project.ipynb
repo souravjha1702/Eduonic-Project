{
  "nbformat": 4,
  "nbformat_minor": 0,
  "metadata": {
    "colab": {
      "provenance": []
    },
    "kernelspec": {
      "name": "python3",
      "display_name": "Python 3"
    },
    "language_info": {
      "name": "python"
    }
  },
  "cells": [
    {
      "cell_type": "code",
      "execution_count": 1,
      "metadata": {
        "id": "5aEcLaN-Qq4B"
      },
      "outputs": [],
      "source": [
        "class SurvivalDurationCalculator:\n",
        "    def __init__(self, age):\n",
        "        self.age = age"
      ]
    },
    {
      "cell_type": "code",
      "source": [
        "def calculate_duration(self, unit):\n",
        "        if unit == \"months\":\n",
        "            return self.age * 12\n",
        "        elif unit == \"weeks\":\n",
        "            return self.age * 52.1429\n",
        "        elif unit == \"days\":\n",
        "            return self.age * 365.25\n",
        "        elif unit == \"hours\":\n",
        "            return self.age * 365.25 * 24\n",
        "        elif unit == \"minutes\":\n",
        "            return self.age * 365.25 * 24 * 60\n",
        "        elif unit == \"seconds\":\n",
        "            return self.age * 365.25 * 24 * 60 * 60\n",
        "        else:\n",
        "            raise ValueError(\"Invalid time unit selected!\")"
      ],
      "metadata": {
        "id": "FabE2hF8QtfN"
      },
      "execution_count": 2,
      "outputs": []
    },
    {
      "cell_type": "code",
      "source": [
        "\n",
        "def get_time_unit_choice():\n",
        "        print(\"\\nChoose a time unit: Months, Weeks, Days, Hours, Minutes, Seconds.\")\n",
        "        print(\"You can enter the first letter or full name of the time unit.\")\n",
        "        unit = input(\"Enter your choice: \").strip().lower()\n",
        "        unit_mapping = {\n",
        "            'm': 'months', 'months': 'months',\n",
        "            'w': 'weeks', 'weeks': 'weeks',\n",
        "            'd': 'days', 'days': 'days',\n",
        "            'h': 'hours', 'hours': 'hours',\n",
        "            'mi': 'minutes', 'minutes': 'minutes',\n",
        "            's': 'seconds', 'seconds': 'seconds'\n",
        "        }"
      ],
      "metadata": {
        "id": "DyqVAbrqQ2CC"
      },
      "execution_count": 5,
      "outputs": []
    },
    {
      "cell_type": "code",
      "source": [
        "def get_age_input():\n",
        "        while True:\n",
        "            try:\n",
        "                age = float(input(\"What's your age (in years)? \"))\n",
        "                if age < 0:\n",
        "                    print(\"Age cannot be negative. Please enter a valid age.\")\n",
        "                else:\n",
        "                    return age\n",
        "            except ValueError:\n",
        "                print(\"Invalid input. Please enter a numerical value for age.\")"
      ],
      "metadata": {
        "id": "91l1csizQ54s"
      },
      "execution_count": 6,
      "outputs": []
    },
    {
      "cell_type": "code",
      "source": [
        "def main():\n",
        "    print(\"Welcome to the Survival Duration Calculator!\")\n",
        "    age = SurvivalDurationCalculator.get_age_input()\n",
        "    calculator = SurvivalDurationCalculator(age)\n",
        "    unit = None\n",
        "    while not unit:\n",
        "        unit = SurvivalDurationCalculator.get_time_unit_choice()\n",
        "        if not unit:\n",
        "            print(\"Invalid choice. Please try again.\")\n",
        "    try:\n",
        "        duration = calculator.calculate_duration(unit)\n",
        "        print(f\"\\nYou have lived for approximately {duration:.2f} {unit.capitalize()}!\")\n",
        "    except ValueError as e:\n",
        "        print(e)"
      ],
      "metadata": {
        "id": "sLCx-on4ROke"
      },
      "execution_count": 11,
      "outputs": []
    },
    {
      "cell_type": "code",
      "source": [],
      "metadata": {
        "id": "YFEz9QwGRamt"
      },
      "execution_count": null,
      "outputs": []
    }
  ]
}